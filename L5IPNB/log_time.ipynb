{
 "cells": [
  {
   "cell_type": "code",
   "execution_count": 1,
   "metadata": {
    "collapsed": true
   },
   "outputs": [],
   "source": [
    "def wsgi_stats_middleware(wsgi_application):\n",
    "    '''\n",
    "    Middleware's wrapper for `application`,\n",
    "    logs execution time to console\n",
    "\n",
    "    :param wsgi_application: Application\n",
    "    :type wsgi_application: callable\n",
    "\n",
    "    :return: Wrapper\n",
    "    '''\n",
    "    def application_wrapper(environ, start_response):\n",
    "        start_time = time()\n",
    "        results = wsgi_application(environ, start_response)\n",
    "        if results:\n",
    "            yield from results\n",
    "        execution_time = time() - start_time\n",
    "        print('Execution time: %s' % execution_time)\n",
    "\n",
    "    return application_wrapper"
   ]
  },
  {
   "cell_type": "code",
   "execution_count": 2,
   "metadata": {
    "collapsed": true
   },
   "outputs": [],
   "source": [
    "from time import time, sleep\n",
    "from random import randint\n",
    "\n",
    "@wsgi_stats_middleware\n",
    "def wsgi_application(environ, start_response):\n",
    "    '''Simple WSGI-application'''\n",
    "    response_headers = [\n",
    "        ('Content-type', 'text/plain; charset=utf-8'),\n",
    "    ]\n",
    "    start_response('200 OK', response_headers)\n",
    "    delay = randint(0, 10)\n",
    "    sleep(delay)\n",
    "    yield b'This is wrapped!'"
   ]
  },
  {
   "cell_type": "code",
   "execution_count": 3,
   "metadata": {
    "collapsed": false
   },
   "outputs": [
    {
     "name": "stdout",
     "output_type": "stream",
     "text": [
      "Execution time: 10.006857872009277\n"
     ]
    },
    {
     "name": "stderr",
     "output_type": "stream",
     "text": [
      "127.0.0.1 - - [19/Mar/2017 11:30:27] \"GET / HTTP/1.1\" 200 16\n"
     ]
    }
   ],
   "source": [
    "from wsgiref.simple_server import make_server\n",
    "\n",
    "http_server = make_server('127.0.0.1', 9090, wsgi_application)\n",
    "http_server.handle_request()"
   ]
  }
 ],
 "metadata": {
  "kernelspec": {
   "display_name": "Python 3",
   "language": "python",
   "name": "python3"
  },
  "language_info": {
   "codemirror_mode": {
    "name": "ipython",
    "version": 3
   },
   "file_extension": ".py",
   "mimetype": "text/x-python",
   "name": "python",
   "nbconvert_exporter": "python",
   "pygments_lexer": "ipython3",
   "version": "3.5.2"
  }
 },
 "nbformat": 4,
 "nbformat_minor": 2
}

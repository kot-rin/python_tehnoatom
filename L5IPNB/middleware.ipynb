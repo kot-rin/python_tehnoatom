{
 "cells": [
  {
   "cell_type": "code",
   "execution_count": 1,
   "metadata": {
    "collapsed": true
   },
   "outputs": [],
   "source": [
    "def wsgi_response_middleware(start_response):\n",
    "    '''\n",
    "    Middleware's wrapper for `start_response`\n",
    "\n",
    "    :param start_response: Callback\n",
    "    :type start_response: callable\n",
    "\n",
    "    :return: Wrapper\n",
    "    '''\n",
    "    def start_response_wrapper(status, response_headers, exc_info=None):\n",
    "        print('Call start_response')\n",
    "        print('Post-process response status and headers (skip)')\n",
    "        if exc_info:\n",
    "            print('Handle errors (skip)')\n",
    "        start_response(status, response_headers, exc_info)\n",
    "        print('Done start_response')\n",
    "    \n",
    "    return start_response_wrapper"
   ]
  },
  {
   "cell_type": "code",
   "execution_count": 2,
   "metadata": {
    "collapsed": true
   },
   "outputs": [],
   "source": [
    "def wsgi_middleware(wsgi_application):\n",
    "    '''\n",
    "    Middleware's wrapper for `application`\n",
    "\n",
    "    :param wsgi_application: Application\n",
    "    :type wsgi_application: callable\n",
    "\n",
    "    :return: Wrapper\n",
    "    '''\n",
    "    def application_wrapper(environ, start_response):\n",
    "        print('Call application')\n",
    "        print('Pre-process input arguments (skip)')\n",
    "        print('Wrap start_response')\n",
    "        start_response = wsgi_response_middleware(start_response)\n",
    "        results = wsgi_application(environ, start_response)\n",
    "        if results:\n",
    "            results = list(results)\n",
    "            print('Post-process results (skip)')\n",
    "            yield from results\n",
    "        print('Done application')\n",
    "\n",
    "    return application_wrapper"
   ]
  },
  {
   "cell_type": "code",
   "execution_count": 3,
   "metadata": {
    "collapsed": true
   },
   "outputs": [],
   "source": [
    "@wsgi_middleware\n",
    "def wsgi_application(environ, start_response):\n",
    "    '''Simple WSGI-application'''\n",
    "    response_headers = [\n",
    "        ('Content-type', 'text/plain; charset=utf-8'),\n",
    "    ]\n",
    "    start_response('200 OK', response_headers)\n",
    "    yield b'This is wrapped!'"
   ]
  },
  {
   "cell_type": "code",
   "execution_count": 4,
   "metadata": {
    "collapsed": false
   },
   "outputs": [
    {
     "name": "stdout",
     "output_type": "stream",
     "text": [
      "Call application\n",
      "Pre-process input arguments (skip)\n",
      "Wrap start_response\n",
      "Call start_response\n",
      "Post-process response status and headers (skip)\n",
      "Done start_response\n",
      "Post-process results (skip)\n",
      "Done application\n"
     ]
    },
    {
     "name": "stderr",
     "output_type": "stream",
     "text": [
      "127.0.0.1 - - [19/Mar/2017 11:24:22] \"GET / HTTP/1.1\" 200 16\n"
     ]
    }
   ],
   "source": [
    "from wsgiref.simple_server import make_server\n",
    "\n",
    "http_server = make_server('127.0.0.1', 9090, wsgi_application)\n",
    "http_server.handle_request()"
   ]
  }
 ],
 "metadata": {
  "kernelspec": {
   "display_name": "Python 3",
   "language": "python",
   "name": "python3"
  },
  "language_info": {
   "codemirror_mode": {
    "name": "ipython",
    "version": 3
   },
   "file_extension": ".py",
   "mimetype": "text/x-python",
   "name": "python",
   "nbconvert_exporter": "python",
   "pygments_lexer": "ipython3",
   "version": "3.5.2"
  }
 },
 "nbformat": 4,
 "nbformat_minor": 2
}

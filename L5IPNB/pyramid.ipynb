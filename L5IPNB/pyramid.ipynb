{
 "cells": [
  {
   "cell_type": "code",
   "execution_count": 1,
   "metadata": {
    "collapsed": true
   },
   "outputs": [],
   "source": [
    "from pyramid.config import Configurator\n",
    "from pyramid.response import Response"
   ]
  },
  {
   "cell_type": "code",
   "execution_count": 2,
   "metadata": {
    "collapsed": true
   },
   "outputs": [],
   "source": [
    "def hello_world(request):\n",
    "    return Response('<h1>Hello, World!</h1>')"
   ]
  },
  {
   "cell_type": "code",
   "execution_count": 3,
   "metadata": {
    "collapsed": true
   },
   "outputs": [],
   "source": [
    "config = Configurator()\n",
    "config.add_route('hello', '')\n",
    "config.add_view(hello_world, route_name='hello')\n",
    "\n",
    "application = config.make_wsgi_app()"
   ]
  },
  {
   "cell_type": "code",
   "execution_count": 4,
   "metadata": {
    "collapsed": false
   },
   "outputs": [
    {
     "name": "stderr",
     "output_type": "stream",
     "text": [
      "127.0.0.1 - - [19/Mar/2017 11:44:14] \"GET / HTTP/1.1\" 200 22\n"
     ]
    }
   ],
   "source": [
    "from wsgiref.simple_server import make_server\n",
    "\n",
    "http_server = make_server('127.0.0.1', 9090, application)\n",
    "http_server.handle_request()"
   ]
  }
 ],
 "metadata": {
  "kernelspec": {
   "display_name": "Python 3",
   "language": "python",
   "name": "python3"
  },
  "language_info": {
   "codemirror_mode": {
    "name": "ipython",
    "version": 3
   },
   "file_extension": ".py",
   "mimetype": "text/x-python",
   "name": "python",
   "nbconvert_exporter": "python",
   "pygments_lexer": "ipython3",
   "version": "3.5.2"
  }
 },
 "nbformat": 4,
 "nbformat_minor": 2
}

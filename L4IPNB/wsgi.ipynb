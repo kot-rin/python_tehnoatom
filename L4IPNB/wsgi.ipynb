{
 "cells": [
  {
   "cell_type": "code",
   "execution_count": 1,
   "metadata": {
    "collapsed": true,
    "deletable": true,
    "editable": true
   },
   "outputs": [],
   "source": [
    "from urllib.parse import parse_qs\n",
    "\n",
    "class WSGIApplication(object):\n",
    "\n",
    "    default_headers = [\n",
    "        ('Content-Type', 'text/html; charset=utf8'),\n",
    "        ('Server', 'WSGIExample/1.0'),\n",
    "    ]\n",
    "\n",
    "    def __init__(self, environment, start_response_callback):\n",
    "        self.environment = environment\n",
    "        self.start_response = start_response_callback\n",
    "\n",
    "    @property\n",
    "    def params(self):\n",
    "        params = getattr(self, '_params', None)\n",
    "        if not params:\n",
    "            query_string = self.environment.get('QUERY_STRING', '')\n",
    "            params = {\n",
    "                key: value if len(value) > 1 else value[0]\n",
    "                for key, value in parse_qs(query_string).items()\n",
    "            }\n",
    "            setattr(self, '_params', params)\n",
    "        return params\n",
    "\n",
    "    def __iter__(self):\n",
    "        self.start_response('200 OK', self.default_headers)\n",
    "        greetings = 'Hello, %s!' % self.params.get('name', 'Anonymous')\n",
    "        yield greetings.encode('utf-8')"
   ]
  },
  {
   "cell_type": "code",
   "execution_count": 2,
   "metadata": {
    "collapsed": false,
    "deletable": true,
    "editable": true
   },
   "outputs": [
    {
     "name": "stderr",
     "output_type": "stream",
     "text": [
      "127.0.0.1 - - [18/Mar/2017 09:59:59] \"GET /?name=Bob HTTP/1.1\" 200 11\n"
     ]
    }
   ],
   "source": [
    "from wsgiref.simple_server import make_server\n",
    "\n",
    "http_server = make_server('127.0.0.1', 9090, WSGIApplication)\n",
    "http_server.handle_request()"
   ]
  }
 ],
 "metadata": {
  "kernelspec": {
   "display_name": "Python 3",
   "language": "python",
   "name": "python3"
  },
  "language_info": {
   "codemirror_mode": {
    "name": "ipython",
    "version": 3
   },
   "file_extension": ".py",
   "mimetype": "text/x-python",
   "name": "python",
   "nbconvert_exporter": "python",
   "pygments_lexer": "ipython3",
   "version": "3.5.2"
  }
 },
 "nbformat": 4,
 "nbformat_minor": 2
}

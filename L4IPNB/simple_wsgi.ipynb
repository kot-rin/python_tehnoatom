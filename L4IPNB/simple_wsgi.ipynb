{
 "cells": [
  {
   "cell_type": "code",
   "execution_count": 1,
   "metadata": {
    "collapsed": true
   },
   "outputs": [],
   "source": [
    "def simple_wsgi_application(environment, start_response_callback):\n",
    "    '''\n",
    "    :param environment: Контекст окружения\n",
    "    :type environment: dict\n",
    "\n",
    "    :param start_response_callback: Обработчик запроса\n",
    "    :type start_response_callback: callable\n",
    "\n",
    "    :return: Тело ответа\n",
    "    :rtype: iterable\n",
    "    '''\n",
    "    response_headers = [\n",
    "        ('Content-type', 'text/html; charset=utf-8'),\n",
    "    ]\n",
    "    start_response_callback('200 OK', response_headers)\n",
    "    return [\n",
    "        b'Hello, WSGI-World!',\n",
    "    ]"
   ]
  },
  {
   "cell_type": "code",
   "execution_count": 2,
   "metadata": {
    "collapsed": false
   },
   "outputs": [
    {
     "name": "stderr",
     "output_type": "stream",
     "text": [
      "127.0.0.1 - - [18/Mar/2017 09:34:56] \"GET / HTTP/1.1\" 200 18\n"
     ]
    }
   ],
   "source": [
    "from wsgiref.simple_server import make_server\n",
    "\n",
    "http_server = make_server('127.0.0.1', 9090, simple_wsgi_application)\n",
    "http_server.handle_request()"
   ]
  }
 ],
 "metadata": {
  "kernelspec": {
   "display_name": "Python 3",
   "language": "python",
   "name": "python3"
  },
  "language_info": {
   "codemirror_mode": {
    "name": "ipython",
    "version": 3
   },
   "file_extension": ".py",
   "mimetype": "text/x-python",
   "name": "python",
   "nbconvert_exporter": "python",
   "pygments_lexer": "ipython3",
   "version": "3.5.2"
  }
 },
 "nbformat": 4,
 "nbformat_minor": 2
}
